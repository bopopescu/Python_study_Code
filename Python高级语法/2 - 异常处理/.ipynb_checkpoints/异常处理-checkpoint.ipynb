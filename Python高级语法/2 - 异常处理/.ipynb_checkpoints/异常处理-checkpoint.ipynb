{
 "cells": [
  {
   "cell_type": "markdown",
   "metadata": {},
   "source": [
    "# 1、异常\n",
    "- 广义上的错误分为错误和异常\n",
    "- 错误指的是可以人为避免\n",
    "- 在Python里，异常是一个类，可以处理的使用\n",
    "\n",
    "# 2、异常的分类\n",
    "        AssertError 断言语句（assert）失败\n",
    "        AttributeError 尝试访问未知的对象属性\n",
    "        EOFError 用户输入文件末尾标志EOF（Ctrl+d）\n",
    "        FloatingPointError 浮点计算错误\n",
    "        GeneratorExit generator.close()方法被调用的时候\n",
    "        ImportError 导入模块失败的时候\n",
    "        IndexError 索引超出序列的范围\n",
    "        KeyError 字典中查找一个不存在的关键字\n",
    "        KeyboardInterrupt 用户输入中断键（Ctrl+c）\n",
    "        MemoryError 内存溢出（可通过删除对象释放内存）\n",
    "        NameError 尝试访问一个不存在的变量\n",
    "        NotImplementedError 尚未实现的方法\n",
    "        OSError 操作系统产生的异常（例如打开一个不存在的文件）\n",
    "        OverflowError 数值运算超出最大限制\n",
    "        ReferenceError 弱引用（weak reference）试图访问一个已经被垃圾回收机制回收\n",
    "         了的对象\n",
    "        RuntimeError 一般的运行时错误\n",
    "        StopIteration 迭代器没有更多的值\n",
    "        SyntaxError Python的语法错误\n",
    "        IndentationError 缩进错误\n",
    "        TabError Tab和空格混合使用\n",
    "        SystemError Python编译器系统错误\n",
    "        SystemExit Python编译器进程被关闭\n",
    "        TypeError 不同类型间的无效操作\n",
    "        UnboundLocalError 访问一个未初始化的本地变量（NameError的子类）\n",
    "        UnicodeError Unicode相关的错误（ValueError的子类）\n",
    "        UnicodeEncodeError Unicode编码时的错误（UnicodeError的子类）\n",
    "        UnicodeDecodeError Unicode解码时的错误（UnicodeError的子类）\n",
    "        UnicodeTranslateError Unicode转换时的错误（UnicodeError的子类）\n",
    "        ValueError 传入无效的参数\n",
    "        ZeroDivisionError 除数为零\n"
   ]
  },
  {
   "cell_type": "code",
   "execution_count": 3,
   "metadata": {},
   "outputs": [
    {
     "name": "stdout",
     "output_type": "stream",
     "text": [
      "please input your num:0\n"
     ]
    },
    {
     "ename": "ZeroDivisionError",
     "evalue": "division by zero",
     "output_type": "error",
     "traceback": [
      "\u001b[1;31m---------------------------------------------------------------------------\u001b[0m",
      "\u001b[1;31mZeroDivisionError\u001b[0m                         Traceback (most recent call last)",
      "\u001b[1;32m<ipython-input-3-912dd7878791>\u001b[0m in \u001b[0;36m<module>\u001b[1;34m\u001b[0m\n\u001b[0;32m      2\u001b[0m \u001b[1;31m# 除零错误\u001b[0m\u001b[1;33m\u001b[0m\u001b[1;33m\u001b[0m\u001b[1;33m\u001b[0m\u001b[0m\n\u001b[0;32m      3\u001b[0m \u001b[0mnum\u001b[0m \u001b[1;33m=\u001b[0m \u001b[0mint\u001b[0m\u001b[1;33m(\u001b[0m\u001b[0minput\u001b[0m\u001b[1;33m(\u001b[0m\u001b[1;34m\"please input your num:\"\u001b[0m\u001b[1;33m)\u001b[0m\u001b[1;33m)\u001b[0m\u001b[1;33m\u001b[0m\u001b[1;33m\u001b[0m\u001b[0m\n\u001b[1;32m----> 4\u001b[1;33m \u001b[0mprint\u001b[0m\u001b[1;33m(\u001b[0m\u001b[1;36m100\u001b[0m\u001b[1;33m/\u001b[0m\u001b[0mnum\u001b[0m\u001b[1;33m)\u001b[0m\u001b[1;33m\u001b[0m\u001b[1;33m\u001b[0m\u001b[0m\n\u001b[0m",
      "\u001b[1;31mZeroDivisionError\u001b[0m: division by zero"
     ]
    }
   ],
   "source": [
    "l = [1,2,3,4,5]\n",
    "# 除零错误演示\n",
    "num = int(input(\"please input your num:\"))\n",
    "print(100/num)"
   ]
  },
  {
   "cell_type": "markdown",
   "metadata": {},
   "source": [
    "# 异常处理\n",
    "- 不能保证程序永远正确运行\n",
    "- 但是，必须保证程序在最坏的情况下得到的问题被妥善处理\n",
    "- Python的异常出理模块全部语法为：\n",
    "        \n",
    "            try:\n",
    "              尝试实现某个操作，\n",
    "              如果没出现异常，任务就可以完成\n",
    "              如果出现异常，将异常从当前代码块扔出去尝试解决异常\n",
    "\n",
    "            except 异常类型1:\n",
    "              解决方案1：用于尝试在此处处理异常解决问题\n",
    "\n",
    "            except 异常类型2：\n",
    "               解决方案2：用于尝试在此处处理异常解决问题\n",
    "\n",
    "            except (异常类型1,异常类型2...)\n",
    "              解决方案：针对多个异常使用相同的处理方式\n",
    "\n",
    "            excpet:\n",
    "              解决方案：所有异常的解决方案\n",
    "\n",
    "            else:\n",
    "              如果没有出现任何异常，将会执行此处代码\n",
    "\n",
    "            finally:\n",
    "              管你有没有异常都要执行的代码\n",
    "- 流程\n",
    "    1、执行try下面的语句\n",
    "    2、如果出现异常，则在except语句里查找对应异常并进行处理\n",
    "    3、如果你没有异常，则执行else语句内容\n",
    "    4、最后，不管是否出现异常，都要执行finally语句\n",
    "- 除except（最少一个）外，else和finally可选\n",
    "- 获取异常处理信息的函数：\n",
    "   1、str(e)\n",
    "    返回字符串类型，只给出异常信息，不包括异常信息的类型，如1/0的异常信息'integer         division or modulo by zero'\n",
    "    2、repr(e)\n",
    "     给出较全的异常信息，包括异常信息的类型，如1/0的异常信  息\"ZeroDivisionError('integer division or modulo by zero',)\"\n",
    "    3、e.message\n",
    "     获得的信息同str(e)\n",
    "    4、采用traceback模块\n",
    " 　　 需要导入traceback模块，此时获取的信息最全，与python命令行运行程序出现错误信息       一致。使用traceback.print_exc()打印异常信息到标准错误，就像没有获取一样，或者使用traceback.format_exc()将同样的输出获取为字符串。你可以向这些函数传递各种各样的参数来限制输出，或者重新打印到像文件类型的对象。\n",
    "                "
   ]
  },
  {
   "cell_type": "code",
   "execution_count": 5,
   "metadata": {},
   "outputs": [
    {
     "name": "stdout",
     "output_type": "stream",
     "text": [
      "input num:0\n",
      "出现异常\n"
     ]
    }
   ],
   "source": [
    "# 简单异常案例 1\n",
    "try:\n",
    "    num = int(input(\"input num:\"))\n",
    "    rst = 100/num\n",
    "    print(\"计算结果是：{0}\".format(rst))\n",
    "except:\n",
    "    print(\"出现异常\")"
   ]
  },
  {
   "cell_type": "code",
   "execution_count": 1,
   "metadata": {},
   "outputs": [
    {
     "name": "stdout",
     "output_type": "stream",
     "text": [
      "input num:0\n",
      "出现异常\n",
      "division by zero\n",
      "ZeroDivisionError('division by zero')\n"
     ]
    }
   ],
   "source": [
    "# 简单异常案例 2\n",
    "# 给出提示信息\n",
    "try:\n",
    "    num = int(input(\"input num:\"))\n",
    "    rst = 100/num\n",
    "    print(\"计算结果是：{0}\".format(rst))\n",
    "# 捕获异常后，把异常实例化，出错信息会在实例里\n",
    "# 注意以下写法\n",
    "# 以下语句是捕获ZeroDivisionError异常并实例化实例e\n",
    "except ZeroDivisionError as e:\n",
    "    print(\"出现异常\")\n",
    "    # print(e)\n",
    "    print(repr(e))\n",
    "    # exit是退出程序的意思\n",
    "    exit()"
   ]
  },
  {
   "cell_type": "code",
   "execution_count": 2,
   "metadata": {},
   "outputs": [
    {
     "name": "stdout",
     "output_type": "stream",
     "text": [
      "input num:as\n",
      "ValueError(\"invalid literal for int() with base 10: 'as'\")\n"
     ]
    }
   ],
   "source": [
    "# 简单异常案例 3\n",
    "# 给出提示信息\n",
    "try:\n",
    "    num = int(input(\"input num:\"))\n",
    "    rst = 100/num\n",
    "    print(\"计算结果是：{0}\".format(rst))\n",
    "# 如果是多种error的情况\n",
    "# 需要把越具体的错误，越往前放\n",
    "# 在异常继承关系中，越是子类的异常,越往前放，越是父类的问题越往后放\n",
    "\n",
    "# 在处理异常的时候，一旦拦截到某一个异常，则不再继续往下查看，直接进行下一个\n",
    "# 代码，即有finally则执行finally语句块，否则就执行下一个大的语句\n",
    "except ZeroDivisionError as e:\n",
    "    print(\"出现异常\")\n",
    "    # print(e)\n",
    "    print(repr(e))\n",
    "    # exit是退出程序的意思\n",
    "except NameError as e:\n",
    "    print(repr(e))\n",
    "except AttributeError as e:\n",
    "    print(repr(e))\n",
    "# 所有的异常都是继承自Exception\n",
    "# 假如写下面的一句话，任何异常都能被拦截住\n",
    "# 而且，下面这句话一般作为最后一个exception\n",
    "except Exception as e:\n",
    "    print(repr(e))"
   ]
  },
  {
   "cell_type": "markdown",
   "metadata": {},
   "source": [
    "# 用户手动引发异常\n",
    "- 当某些情况，用户希望自己引发异常的时候，可以使用\n",
    "- raise 关键字来引发异常"
   ]
  },
  {
   "cell_type": "code",
   "execution_count": 3,
   "metadata": {},
   "outputs": [
    {
     "name": "stdout",
     "output_type": "stream",
     "text": [
      "raise案例。\n",
      "ValueError()\n",
      "finally 语句块\n"
     ]
    }
   ],
   "source": [
    "#  raise案例 1\n",
    "try:\n",
    "    print(\"raise案例。\")\n",
    "    #手动引发一个异常\n",
    "    #注意语法：raiseErrorClassName\n",
    "    raise ValueError\n",
    "    print(\"还没运行完\")\n",
    "except NameError as e:\n",
    "    print(repr(e))\n",
    "except AttributeError as e:\n",
    "    print(repr(e))\n",
    "except Exception as e:\n",
    "    print(repr(e))\n",
    "finally:\n",
    "    print(\"finally 语句块\")\n",
    "    "
   ]
  },
  {
   "cell_type": "code",
   "execution_count": 8,
   "metadata": {},
   "outputs": [
    {
     "name": "stdout",
     "output_type": "stream",
     "text": [
      "raise案例。\n",
      "ValueError()\n",
      "finally 语句块\n"
     ]
    }
   ],
   "source": [
    "# raise案例 2\n",
    "# 自己定义异常\n",
    "# 需要注意：自定义异常必须是系统异常的子类\n",
    "class zqcError(ValueError):\n",
    "    pass\n",
    "try:\n",
    "    print(\"raise案例。\")\n",
    "    #手动引发一个异常\n",
    "    #注意语法：raiseErrorClassName\n",
    "    raise ValueError\n",
    "    print(\"还没运行完\")\n",
    "except NameError as e:\n",
    "    print(repr(e))\n",
    "except AttributeError as e:\n",
    "    print(repr(e))\n",
    "except zqcError as e:\n",
    "    print(\"自定义error\")\n",
    "except Exception as e:\n",
    "    print(repr(e))\n",
    "finally:\n",
    "    print(\"finally 语句块\")"
   ]
  },
  {
   "cell_type": "code",
   "execution_count": 9,
   "metadata": {},
   "outputs": [
    {
     "name": "stdout",
     "output_type": "stream",
     "text": [
      "input your num:pp\n",
      "invalid literal for int() with base 10: 'pp'\n",
      "finally 语句块\n"
     ]
    }
   ],
   "source": [
    "# else语句案例\n",
    "\n",
    "try:\n",
    "    num = int(input(\"input your num:\"))\n",
    "    rst = 100/num\n",
    "    print(\"计算结果是：{0}\".format(rst))\n",
    "except Exception as e:\n",
    "    print(e)\n",
    "else:\n",
    "    print(\"no Exception\")\n",
    "finally:\n",
    "    print(\"finally 语句块\")"
   ]
  },
  {
   "cell_type": "markdown",
   "metadata": {},
   "source": [
    "# 关于自定义异常\n",
    "- 只要是raise异常，则推荐自定义异常\n",
    "- 在自定义异常的时候，一般包含以下内容：\n",
    "    - 自定义发生异常的异常代码\n",
    "    - 自定义发生异常后的问题提示\n",
    "    - 自定义发生异常的行数\n",
    "- 最终的目的是，一旦发生异常，方便程序员快速定位错误现场"
   ]
  }
 ],
 "metadata": {
  "kernelspec": {
   "display_name": "Python 3",
   "language": "python",
   "name": "python3"
  },
  "language_info": {
   "codemirror_mode": {
    "name": "ipython",
    "version": 3
   },
   "file_extension": ".py",
   "mimetype": "text/x-python",
   "name": "python",
   "nbconvert_exporter": "python",
   "pygments_lexer": "ipython3",
   "version": "3.7.1"
  }
 },
 "nbformat": 4,
 "nbformat_minor": 2
}

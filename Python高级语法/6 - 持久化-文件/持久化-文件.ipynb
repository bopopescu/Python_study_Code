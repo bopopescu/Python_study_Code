{
 "cells": [
  {
   "cell_type": "markdown",
   "metadata": {},
   "source": [
    "# 文件\n",
    "- 长久保存信息的一种数据信息集合\n",
    "- 常用操作\n",
    "    - 打开关闭（文件一旦打开，需要关闭操作）\n",
    "    - 读写内容\n",
    "    - 查找\n",
    "# open函数\n",
    "- open函数负责打开文件，带有很多参数\n",
    "- 第一个参数：必须有，文件的路径和名称\n",
    "- mode：表明文件用什么方式打开\n",
    "    - r：只读方式打开\n",
    "    - w：写方式打开，会覆盖以前的内容\n",
    "    - x：创建方式打开，假如文件已经存在，会报错\n",
    "    - a：append方式，以追加的方式对文件内容进行写入\n",
    "    - b：binary方式，二进制方式写入\n",
    "    - t：文本方式打开\n",
    "    - +：可读写"
   ]
  },
  {
   "cell_type": "code",
   "execution_count": 2,
   "metadata": {},
   "outputs": [],
   "source": [
    "# 打开文件，用写的方式\n",
    "#r表示后面的字符串内容不需要转义\n",
    "#f 称之为文件句柄\n",
    "f = open(r\"1.txt\",'w')\n",
    "# 文件打开后必须关闭\n",
    "f.close()\n",
    "\n",
    "# 此案例说明，以写方式打开文件，默认是如果没有文件，则创建文件"
   ]
  },
  {
   "cell_type": "markdown",
   "metadata": {},
   "source": [
    "# with语句\n",
    "- with语句使用的技术是一种称为上下文管理协议的技术（ContextManagementProtocol）\n",
    "- 自动判断文件的作用域，自动关闭不再使用的打开文件句柄"
   ]
  },
  {
   "cell_type": "code",
   "execution_count": 3,
   "metadata": {},
   "outputs": [],
   "source": [
    "# with语句案例\n",
    "with open(r\"1.txt\",\"r\") as f:\n",
    "    pass\n",
    "    #下面语句块开始对文件f进行操作\n",
    "    # 在本模块不需要再使用close来关闭文件f"
   ]
  },
  {
   "cell_type": "code",
   "execution_count": 4,
   "metadata": {},
   "outputs": [
    {
     "name": "stdout",
     "output_type": "stream",
     "text": [
      "你好\n",
      "\n",
      "哈哈\n",
      "\n",
      "嘿嘿\n"
     ]
    }
   ],
   "source": [
    "# with案例 1\n",
    "with open(r'1.txt','r') as f:\n",
    "    # 按行读取内容\n",
    "    strline = f.readline()\n",
    "    # 此结构保证能够完整读取文件直到结束\n",
    "    while strline:\n",
    "        print(strline)\n",
    "        strline = f.readline()"
   ]
  },
  {
   "cell_type": "code",
   "execution_count": 5,
   "metadata": {},
   "outputs": [
    {
     "name": "stdout",
     "output_type": "stream",
     "text": [
      "你好\n",
      "\n",
      "哈哈\n",
      "\n",
      "嘿嘿\n"
     ]
    }
   ],
   "source": [
    "# list能用打开的文件作为参数，把文件内每一行内容作为一个元素\n",
    "\n",
    "with open(r'1.txt', 'r') as f:\n",
    "    # 一打开的文件f作为参数，创建列表\n",
    "    l = list(f)\n",
    "    for line in l:\n",
    "        print(line)"
   ]
  },
  {
   "cell_type": "code",
   "execution_count": 17,
   "metadata": {},
   "outputs": [
    {
     "name": "stdout",
     "output_type": "stream",
     "text": [
      "2\n",
      "你好\n"
     ]
    }
   ],
   "source": [
    "# read是按照字符读取文件内容\n",
    "# 允许输入参数决定读取几个字符，如果没有指定，从当前位置读取到结尾\n",
    "# 否则，从当前位置读取指定个数字符\n",
    "\n",
    "with open(r'1.txt', 'r') as f:\n",
    "    strChar = f.read(2)\n",
    "   # help(f.read)\n",
    "    print(len(strChar))\n",
    "    print(strChar)\n",
    "    \n",
    "# 作业\n",
    "# 使用read读取文件，每次读取一个，使用循坏读完\n",
    "# 尽量保持原格式"
   ]
  },
  {
   "cell_type": "markdown",
   "metadata": {},
   "source": [
    "# seek （offset， from）\n",
    "- 移动文件的读取位置，也叫读取指针\n",
    "- from的取值范围\n",
    "    - 0：从文件头开始偏移\n",
    "    - 1：从文件当前位置开始偏移\n",
    "    - 2：从文件末尾开始偏移\n",
    "- 移动的单位是字节（byte）\n",
    "- 一个汉字由若干个字节构成\n",
    "- 返回文件值，针对当前位置"
   ]
  },
  {
   "cell_type": "code",
   "execution_count": 25,
   "metadata": {},
   "outputs": [
    {
     "name": "stdout",
     "output_type": "stream",
     "text": [
      "好\n",
      "哈哈\n",
      "嘿嘿\n"
     ]
    }
   ],
   "source": [
    "# seek 案例\n",
    "# 打开文件后，从第五个字节处开始读取\n",
    "\n",
    "#打开后读写指针在0处，即文件开头\n",
    "with open(r'1.txt', 'r') as f:\n",
    "    # seek移动单位是字节,一般一个汉字是由两个字节构成，如果出现单数则会报错\n",
    "    f.seek(2,0)\n",
    "    strChar = f.read()\n",
    "    print(strChar)"
   ]
  },
  {
   "cell_type": "code",
   "execution_count": 33,
   "metadata": {},
   "outputs": [
    {
     "name": "stdout",
     "output_type": "stream",
     "text": [
      "4\n",
      "你好\n",
      "8\n",
      "\n",
      "哈\n",
      "12\n",
      "哈\n",
      "\n",
      "16\n",
      "嘿嘿\n"
     ]
    }
   ],
   "source": [
    "# 关于读取文件的练习\n",
    "# 打开文件，三个字符一组读出内容，然后显示在屏幕上\n",
    "# 每读取一次，休息一秒\n",
    "\n",
    "#让程序暂停，可以使用time下的sleep函数\n",
    "import time\n",
    "\n",
    "with open(r'1.txt', 'r') as f:\n",
    "    strChar = f.read(2)\n",
    "    while strChar:\n",
    "        # tell函数：用来显示文件读写指针的当前位置，返回值的单位是byte\n",
    "        print(f.tell())\n",
    "        print(strChar)\n",
    "        # sleep的参数单位是秒\n",
    "        time.sleep(1)\n",
    "        strChar = f.read(2)\n",
    "# 作业\n",
    "# 解释以下运行结果，为啥不是一个字一行"
   ]
  },
  {
   "cell_type": "markdown",
   "metadata": {},
   "source": [
    "# 文件的写操作 - write\n",
    "- write(str)：把字符串写入文件\n",
    "- writelines(str)：把字符串按行写入文件\n",
    "- 区别：\n",
    "    - write函数参数只能是字符串\n",
    "    - writelines参数可以是字符串，也可以是字符序列"
   ]
  },
  {
   "cell_type": "code",
   "execution_count": 1,
   "metadata": {},
   "outputs": [],
   "source": [
    "# write 案例\n",
    "# 1. 向文件追加一句话\n",
    "\n",
    "# a代表追加方式打开\n",
    "with open(r'1.txt', 'a') as f:\n",
    "    f.write(\"生活不止眼前的苟且，\\n 还有诗和远方的田野\")"
   ]
  },
  {
   "cell_type": "code",
   "execution_count": 7,
   "metadata": {},
   "outputs": [],
   "source": [
    "# 可以直接写入行，用writelines\n",
    "# writelines表示写入很多行，参数可以是list格式\n",
    "# a代表追加的方式打开\n",
    "with open(r'1.txt', 'a') as f:\n",
    "    f.writelines(\"生活不止眼前的苟且\")\n",
    "    f.writelines(\"还有诗和远方的田野\")\n",
    "    #help(f.writelines)\n",
    "    \n",
    "l = [\"It's\",\"good\"]\n",
    "with open(r'1.txt', 'a') as f:\n",
    "    f.writelines(l)"
   ]
  },
  {
   "cell_type": "markdown",
   "metadata": {},
   "source": [
    "# 持久化 - pickle\n",
    "- 序列化（持久化，落地）：吧程序运行中的信息保存在磁盘上（以字符串的形式保存）\n",
    "- 反序列化：序列化的逆过程\n",
    "- pickle：python提供的序列化模块\n",
    "- pickle.dump:序列化\n",
    "- pickle.load：反序列化"
   ]
  },
  {
   "cell_type": "code",
   "execution_count": 9,
   "metadata": {},
   "outputs": [],
   "source": [
    "#序列化案例\n",
    "import pickle\n",
    "age = 19\n",
    "with open(r'1.txt','wb') as f:\n",
    "    pickle.dump(age,f)"
   ]
  },
  {
   "cell_type": "code",
   "execution_count": 10,
   "metadata": {},
   "outputs": [
    {
     "name": "stdout",
     "output_type": "stream",
     "text": [
      "19\n"
     ]
    }
   ],
   "source": [
    "# 反序列化案例\n",
    "import pickle\n",
    "\n",
    "with open(r'1.txt', 'rb') as f:\n",
    "    age = pickle.load(f)\n",
    "    print(age)"
   ]
  },
  {
   "cell_type": "code",
   "execution_count": 11,
   "metadata": {},
   "outputs": [],
   "source": [
    "#  序列化案例\n",
    "import pickle\n",
    "\n",
    "a = [22,'zqc',['good','bad']]\n",
    "with open(r'1.txt','wb') as f:\n",
    "    pickle.dump(a,f)"
   ]
  },
  {
   "cell_type": "code",
   "execution_count": 12,
   "metadata": {},
   "outputs": [
    {
     "name": "stdout",
     "output_type": "stream",
     "text": [
      "[22, 'zqc', ['good', 'bad']]\n"
     ]
    }
   ],
   "source": [
    "with open(r'1.txt', 'rb') as f:\n",
    "    a = pickle.load(f)\n",
    "    print(a)"
   ]
  },
  {
   "cell_type": "markdown",
   "metadata": {},
   "source": [
    "# 持久化 - shelve\n",
    "- 持久化工具\n",
    "- 类似字典，用k,v对保存数据，存取方式跟字典也类似\n",
    "- shelve.open(filename, flag='c', protocol=None, writeback=False)\n",
    "    - flag参数：\n",
    "        - 'r'：Open existing database for reading only (default)\n",
    "        - 'w'：Open existing database for reading and writing\n",
    "        - 'c'：Open database for reading and writing, creating it if it doesn’t exist\n",
    "        - 'n'：Always create a new, empty database, open for reading and writing"
   ]
  },
  {
   "cell_type": "code",
   "execution_count": 13,
   "metadata": {},
   "outputs": [],
   "source": [
    "# 使用shelve创建文件并使用\n",
    "import shelve\n",
    "\n",
    "# 打开文件\n",
    "# shv相当于一个字典\n",
    "shv = shelve.open(r'shv.db')\n",
    "\n",
    "shv['one'] = 1\n",
    "shv['two'] = 2\n",
    "\n",
    "shv.close()\n",
    "\n",
    "#通过上面操作生成文件有：shv.db.bak、shv.db.dat、shv.db.dir"
   ]
  },
  {
   "cell_type": "code",
   "execution_count": 16,
   "metadata": {},
   "outputs": [
    {
     "name": "stdout",
     "output_type": "stream",
     "text": [
      "1\n"
     ]
    }
   ],
   "source": [
    "# shelve的读取案例\n",
    "shv = shelve.open(r'shv.db')\n",
    "\n",
    "try:\n",
    "    print(shv['one'])\n",
    "finally:\n",
    "    shv.close()"
   ]
  },
  {
   "cell_type": "markdown",
   "metadata": {},
   "source": [
    "# shelve特性\n",
    "- 不支持多个应用并行写入\n",
    "    - 为了解决这个问题，open的时候可以使用 flag=r\n",
    "- 写回问题\n",
    "    - shelve一般情况下不会等待持久化对象进行任何修改\n",
    "    - 解决办法：强制写回：writeback=True"
   ]
  },
  {
   "cell_type": "code",
   "execution_count": 19,
   "metadata": {},
   "outputs": [
    {
     "name": "stdout",
     "output_type": "stream",
     "text": [
      "{'1': 1, '2': 2, '3': 3}\n",
      "{'1': 1, '2': 2, '3': 3}\n",
      "{'1': 'a', '2': 'b', '3': 'c'}\n",
      "{'1': 'a', '2': 'b', '3': 'c'}\n",
      "{'1': 10, '2': 'b', '3': 'c'}\n",
      "{'1': 10, '2': 'b', '3': 'c'}\n",
      "{'a': 100, 'b': 200, 'c': 300}\n"
     ]
    }
   ],
   "source": [
    "import shelve as sv\n",
    "\n",
    "db = sv.open('shv.db')\n",
    "db['key1'] = {'1':1, '2':2, '3':3}\n",
    "db.close()\n",
    "\n",
    "db = sv.open('shv.db')\n",
    "print(db['key1'])\n",
    "db['key1']['1'] = 10 # 不能改变单个条目的值\n",
    "print(db['key1'])\n",
    "db['key1'] = {'1':'a', '2':'b', '3':'c'} # 可以覆盖整个key的值\n",
    "print(db['key1'])\n",
    "db.close()\n",
    "\n",
    "db = sv.open('shv.db', writeback = True)\n",
    "print(db['key1'])\n",
    "db['key1']['1'] = 10 # 可以改变单个条目的值\n",
    "print(db['key1'])\n",
    "db['key2'] = {'a':100, 'b':200, 'c':300}\n",
    "db.close()\n",
    "\n",
    "db = sv.open('shv.db')\n",
    "print(db['key1'])\n",
    "print(db['key2'])\n",
    "db.close()"
   ]
  },
  {
   "cell_type": "code",
   "execution_count": 20,
   "metadata": {},
   "outputs": [
    {
     "name": "stdout",
     "output_type": "stream",
     "text": [
      "{'1': 10, '2': 'b', '3': 'c'}\n",
      "{'1': 10, '2': 'b', '3': 'c'}\n",
      "10\n"
     ]
    }
   ],
   "source": [
    "# shelve 使用with管理上下文环境\n",
    "\n",
    "with shelve.open(r'shv.db', writeback = True) as db:\n",
    "    print(db['key1'])\n",
    "    db['key1']['1'] = 10 # 可以改变单个条目的值\n",
    "    print(db['key1'])\n",
    "    print(db['key1']['1'])\n",
    "    db['key2'] = {'a':100, 'b':200, 'c':300}\n"
   ]
  },
  {
   "cell_type": "code",
   "execution_count": null,
   "metadata": {},
   "outputs": [],
   "source": []
  }
 ],
 "metadata": {
  "kernelspec": {
   "display_name": "Python 3",
   "language": "python",
   "name": "python3"
  },
  "language_info": {
   "codemirror_mode": {
    "name": "ipython",
    "version": 3
   },
   "file_extension": ".py",
   "mimetype": "text/x-python",
   "name": "python",
   "nbconvert_exporter": "python",
   "pygments_lexer": "ipython3",
   "version": "3.7.1"
  }
 },
 "nbformat": 4,
 "nbformat_minor": 2
}
